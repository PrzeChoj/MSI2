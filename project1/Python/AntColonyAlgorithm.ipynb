{
 "cells": [
  {
   "cell_type": "code",
   "execution_count": 1,
   "id": "61436c75",
   "metadata": {},
   "outputs": [],
   "source": [
    "import numpy as np\n",
    "import math"
   ]
  },
  {
   "cell_type": "code",
   "execution_count": 2,
   "id": "3b8b2db8",
   "metadata": {},
   "outputs": [],
   "source": [
    "rng = np.random.default_rng()"
   ]
  },
  {
   "cell_type": "code",
   "execution_count": null,
   "id": "06cd095a",
   "metadata": {},
   "outputs": [],
   "source": []
  },
  {
   "cell_type": "code",
   "execution_count": 3,
   "id": "ebe002d7",
   "metadata": {},
   "outputs": [],
   "source": [
    "from AntColony import *"
   ]
  },
  {
   "cell_type": "code",
   "execution_count": 4,
   "id": "a2abd58d",
   "metadata": {},
   "outputs": [],
   "source": [
    "antColony = AntColony(number_of_ants=None, alpha=1, beta=1, starting_pheromone = 1, Q = 1)"
   ]
  },
  {
   "cell_type": "code",
   "execution_count": 5,
   "id": "c5041b64",
   "metadata": {},
   "outputs": [],
   "source": [
    "request = np.array([10, 10, 10, 10])"
   ]
  },
  {
   "cell_type": "code",
   "execution_count": 6,
   "id": "29c21f8b",
   "metadata": {},
   "outputs": [],
   "source": [
    "coordinates = np.array([[365.4, 689.34], [365.3, 689.5], [365.3, 689.3], [365.2, 689.2], [365.1, 689.1]])"
   ]
  },
  {
   "cell_type": "code",
   "execution_count": 7,
   "id": "da75d588",
   "metadata": {},
   "outputs": [
    {
     "name": "stdout",
     "output_type": "stream",
     "text": [
      "Adding 0 as technical request for warehouse\n"
     ]
    }
   ],
   "source": [
    "antColony.set_problem(coordinates, request, 100, 1.2, 5)"
   ]
  },
  {
   "cell_type": "code",
   "execution_count": 8,
   "id": "008f5c46",
   "metadata": {},
   "outputs": [
    {
     "name": "stdout",
     "output_type": "stream",
     "text": [
      "New best solution in 0 iteration: cost = 1.02644 and uses 1 trucks\n"
     ]
    }
   ],
   "source": [
    "antColony.optimize(300, print_progress=True)"
   ]
  },
  {
   "cell_type": "code",
   "execution_count": 9,
   "id": "253a3513",
   "metadata": {},
   "outputs": [
    {
     "data": {
      "text/plain": [
       "[0, 2, 3, 4, 1, 0]"
      ]
     },
     "execution_count": 9,
     "metadata": {},
     "output_type": "execute_result"
    }
   ],
   "source": [
    "antColony.best_path"
   ]
  },
  {
   "cell_type": "code",
   "execution_count": null,
   "id": "d726af27",
   "metadata": {},
   "outputs": [],
   "source": []
  },
  {
   "cell_type": "code",
   "execution_count": null,
   "id": "b70f25f0",
   "metadata": {},
   "outputs": [],
   "source": []
  },
  {
   "cell_type": "code",
   "execution_count": null,
   "id": "22b05d47",
   "metadata": {},
   "outputs": [],
   "source": []
  },
  {
   "cell_type": "code",
   "execution_count": null,
   "id": "76635fb3",
   "metadata": {},
   "outputs": [],
   "source": []
  }
 ],
 "metadata": {
  "kernelspec": {
   "display_name": "Python 3 (ipykernel)",
   "language": "python",
   "name": "python3"
  },
  "language_info": {
   "codemirror_mode": {
    "name": "ipython",
    "version": 3
   },
   "file_extension": ".py",
   "mimetype": "text/x-python",
   "name": "python",
   "nbconvert_exporter": "python",
   "pygments_lexer": "ipython3",
   "version": "3.9.7"
  }
 },
 "nbformat": 4,
 "nbformat_minor": 5
}
