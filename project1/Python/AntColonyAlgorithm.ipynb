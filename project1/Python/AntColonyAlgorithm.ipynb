{
 "cells": [
  {
   "cell_type": "code",
   "execution_count": 2,
   "id": "61436c75",
   "metadata": {},
   "outputs": [],
   "source": [
    "import numpy as np\n",
    "import math"
   ]
  },
  {
   "cell_type": "code",
   "execution_count": 161,
   "id": "3b8b2db8",
   "metadata": {},
   "outputs": [],
   "source": [
    "rng = np.random.default_rng()"
   ]
  },
  {
   "cell_type": "code",
   "execution_count": null,
   "id": "06cd095a",
   "metadata": {},
   "outputs": [],
   "source": []
  },
  {
   "cell_type": "code",
   "execution_count": 381,
   "id": "ebe002d7",
   "metadata": {},
   "outputs": [],
   "source": [
    "class AntColony:\n",
    "    def __init__(self, number_of_ants = None, alpha = 1, beta = 1,\n",
    "                 starting_pheromone = 1, Q = 1, ro = 0.9):\n",
    "        if number_of_ants is not None and number_of_ants <= 0:\n",
    "            raise Exception(\"Negative number of ants\")\n",
    "        if number_of_ants is not None and number_of_ants != math.floor(number_of_ants):\n",
    "            raise Exception(\"Number of ants is not an intefer\")\n",
    "        if alpha < 0:\n",
    "            raise Exception(\"Alpha parameter has to be positive\")\n",
    "        if beta < 0:\n",
    "            raise Exception(\"Beta parameter has to be positive\")\n",
    "        if starting_pheromone < 0:\n",
    "            raise Exception(\"starting_pheromone parameter has to be positive\")\n",
    "        if Q < 0:\n",
    "            raise Exception(\"Q parameter has to be positive\")\n",
    "        if ro < 0 or ro > 1:\n",
    "            raise Exception(\"ro parameter has to be in [0,1] range\")\n",
    "\n",
    "        self.number_of_ants = number_of_ants\n",
    "        self.alpha = alpha\n",
    "        self.beta = beta\n",
    "        self.starting_pheromone = starting_pheromone\n",
    "        self.Q = Q\n",
    "        self.ro = ro\n",
    "    \n",
    "    def set_problem(self, coordinates, request, capasity, s_max, number_of_cars):\n",
    "        if coordinates.shape[1] != 2:\n",
    "            raise Exception(\"coordinates are not in IR^2\")\n",
    "        if coordinates.shape[0]-1 != request.shape[0]:\n",
    "            raise Exception(\"Different number of coordinates and requests\")\n",
    "        if np.any(request <= 0):\n",
    "            raise Exception(\"There is non positive request\")\n",
    "        if np.any(request > capasity):\n",
    "            raise Exception(\"There is request bigger than capasity. This problem is unsolvable!\")\n",
    "        if number_of_cars < 0:\n",
    "            raise Exception(\"number_of_cars parameter has to be positive\")\n",
    "            \n",
    "        self.problem_size = coordinates.shape[0]\n",
    "        self.coordinates = coordinates\n",
    "        self.request = request\n",
    "        self.capasity = capasity\n",
    "        \n",
    "        if self.number_of_ants is None:\n",
    "            self.number_of_ants = 2 * self.problem_size\n",
    "        \n",
    "        self.pheromone_restart()\n",
    "        self.calculate_distance_matrix()\n",
    "        self.calculate_transition_matrix()\n",
    "        \n",
    "        if np.any(self.distance_matrix * 2 > s_max):\n",
    "            raise Exception(\"There is distance bigger than max_s / 2. This problem is unsolvable! Check antColony.distance_matrix\")\n",
    "\n",
    "        self.s_max = s_max\n",
    "        self.number_of_cars = number_of_cars\n",
    "        \n",
    "    def calculate_distance_matrix(self):\n",
    "        self.distance_matrix = np.zeros((self.problem_size, self.problem_size))\n",
    "        \n",
    "        for i in range(0, self.problem_size):\n",
    "            for j in range(i+1, self.problem_size): # only above the diagonal\n",
    "                d = np.linalg.norm( self.coordinates[i,:] - self.coordinates[j,:] )\n",
    "                self.distance_matrix[i, j] = d\n",
    "                self.distance_matrix[j, i] = d\n",
    "    \n",
    "    def calculate_transition_matrix(self):\n",
    "        # self.T_P is non standardize Probability\n",
    "        modified_distance_matrix = self.distance_matrix + np.eye(self.problem_size) # diagonal will later be set to 0\n",
    "        self.T_P = self.pheromone_matrix**self.alpha*(1/modified_distance_matrix)**self.beta\n",
    "        np.fill_diagonal(self.T_P, 0)\n",
    "    \n",
    "    def pheromone_restart(self):\n",
    "        self.pheromone_matrix = self.starting_pheromone * (np.ones((self.problem_size,\n",
    "                                                                    self.problem_size)) - np.eye(self.problem_size))\n",
    "        \n",
    "    def ant_find_path(self): # return (list of nodes, number of times to start from warehouse - number of 0 in list of nodes minus 1 - number of ant_find_circle() calls)\n",
    "        visited_nodes = [0] # start from warehouse\n",
    "        number_of_cicles = 0\n",
    "        while len(visited_nodes) - number_of_cicles < self.problem_size: # in visited_nodes should be [0,1,...,self.problem_size] and additionally number_of_cicles zeros\n",
    "            number_of_cicles += 1\n",
    "            visited_nodes = self.ant_find_circle(visited_nodes)\n",
    "        \n",
    "        return visited_nodes, number_of_cicles\n",
    "    \n",
    "    def ant_find_circle(self, visited_nodes):\n",
    "        if visited_nodes is None or len(visited_nodes) == 0 or visited_nodes[-1] != 0:\n",
    "            raise Exception(\"ant is not at the warehouse\")\n",
    "            \n",
    "        node = 0\n",
    "        dist_from_warehouse = 0\n",
    "        capasity_left = self.capasity\n",
    "        \n",
    "        # do_while loop\n",
    "        move = self.ant_make_move(visited_nodes, capasity_left, dist_from_warehouse)\n",
    "        visited_nodes.append(move)\n",
    "        dist_from_warehouse += self.distance_matrix[node, move]\n",
    "        capasity_left -= self.request[move-1] # self.request is indexed from 1, coz 0 is warehouse\n",
    "        node = move\n",
    "        while(node != 0):\n",
    "            move = self.ant_make_move(visited_nodes, capasity_left, dist_from_warehouse)\n",
    "            visited_nodes.append(move)\n",
    "            dist_from_warehouse += self.distance_matrix[node, move]\n",
    "            capasity_left -= self.request[move-1] # self.request is indexed from 1, coz 0 is warehouse\n",
    "            node = move\n",
    "        \n",
    "        return visited_nodes\n",
    "    \n",
    "    def ant_make_move(self, visited_nodes, capasity_left, dist_from_warehouse): # wylosuj z rozkladu self.T_P[dopuszczalne]\n",
    "        node = visited_nodes[-1]\n",
    "        if node == 0 and dist_from_warehouse != 0:\n",
    "            raise Exception(\"ant is in warehouse, but the dist_from_warehouse is not 0\")\n",
    "        if capasity_left < 0:\n",
    "            raise Exception(\"There is less than none capasity left\")\n",
    "        \n",
    "        possible_nodes = self.get_possible_nodes(visited_nodes, capasity_left, dist_from_warehouse)\n",
    "        \n",
    "        if len(possible_nodes) == 0:\n",
    "            raise Exception(\"There is nowhere to go :(\")\n",
    "        \n",
    "        \n",
    "        my_cum_sum = np.cumsum(self.T_P[node][possible_nodes])\n",
    "        c = my_cum_sum[-1]\n",
    "        \n",
    "        u = rng.uniform() * c\n",
    "        \n",
    "        return possible_nodes[np.where(u < my_cum_sum)[0][0]] # EXP: np.where(u < my_cum_sum) == ([3,4,5],) # so the 3 was drawn\n",
    "    \n",
    "    def get_possible_nodes(self, visited_nodes, capasity_left, dist_from_warehouse):\n",
    "        node = visited_nodes[-1]\n",
    "        \n",
    "        possible_nodes = [i for i in range(self.problem_size)]\n",
    "        if node == 0:\n",
    "            possible_nodes.remove(0)\n",
    "        \n",
    "        for i in visited_nodes:\n",
    "            if i != 0:\n",
    "                possible_nodes.remove(i)\n",
    "        \n",
    "        for i in possible_nodes:\n",
    "            if capasity_left < self.request[i-1]:\n",
    "                possible_nodes.remove(i)\n",
    "        \n",
    "        for i in possible_nodes:\n",
    "            if dist_from_warehouse + self.distance_matrix[node, i] + self.distance_matrix[i, 0] > self.s_max:\n",
    "                possible_nodes.remove(i)\n",
    "\n",
    "        return possible_nodes\n",
    "    \n",
    "    def calculate_cost(self, path):\n",
    "        cost_sum = 0\n",
    "        for i in range(len(path)-1):\n",
    "            cost_sum += self.distance_matrix[path[i],path[i+1]]\n",
    "        return cost_sum\n",
    "    \n",
    "    def pheromone_modify(self, paths):\n",
    "        self.pheromone_matrix *= (1-self.ro)\n",
    "        delta_pheromone_matrix = np.zeros_like(self.pheromone_matrix)\n",
    "        for path in paths:\n",
    "            # path = [0,4,3,0,1,5,2,0]\n",
    "            for i in range(len(path)-1):\n",
    "                delta_pheromone_matrix[path[i], path[i+1]] += 1/self.distance_matrix[path[i], path[i+1]]\n",
    "        self.pheromone_matrix += self.Q * delta_pheromone_matrix\n",
    "    \n",
    "    def single_iteration(self):\n",
    "        paths = [None for i in range(self.number_of_ants)]\n",
    "        num_of_cycles = [None for i in range(self.number_of_ants)]\n",
    "        for i in range(self.number_of_ants):\n",
    "            paths[i], num_of_cycles[i] = self.ant_find_path()\n",
    "        costs = np.array([self.calculate_cost(paths[i]) for i in range(self.number_of_ants)])\n",
    "        \n",
    "        i_min_cost = np.argmin(costs)\n",
    "        if costs[i_min_cost] < self.best_cost:\n",
    "            self.best_path = paths[i_min_cost]\n",
    "            self.best_cost = costs[i_min_cost]\n",
    "            self.best_cycles = num_of_cycles[i_min_cost]\n",
    "            print(\"New best solution: cost = {:.2f} and uses {} trucks\".format(self.best_cost, self.best_cycles))\n",
    "        \n",
    "        self.pheromone_modify(paths)\n",
    "    \n",
    "    def optimize(self, max_iter):\n",
    "        self.best_cost = np.inf\n",
    "        for i in range(max_iter):\n",
    "            self.single_iteration()"
   ]
  },
  {
   "cell_type": "code",
   "execution_count": 382,
   "id": "a2abd58d",
   "metadata": {},
   "outputs": [],
   "source": [
    "antColony = AntColony(number_of_ants=None, alpha=1, beta=1, starting_pheromone = 1, Q = 1)"
   ]
  },
  {
   "cell_type": "code",
   "execution_count": 383,
   "id": "c5041b64",
   "metadata": {},
   "outputs": [],
   "source": [
    "request = np.array([10, 10, 10, 10])"
   ]
  },
  {
   "cell_type": "code",
   "execution_count": 384,
   "id": "29c21f8b",
   "metadata": {},
   "outputs": [],
   "source": [
    "coordinates = np.array([[365.4, 689.34], [365.3, 689.5], [365.3, 689.3], [365.2, 689.2], [365.1, 689.1]])"
   ]
  },
  {
   "cell_type": "code",
   "execution_count": 385,
   "id": "da75d588",
   "metadata": {},
   "outputs": [],
   "source": [
    "antColony.set_problem(coordinates, request, 100, 1.2, 5)"
   ]
  },
  {
   "cell_type": "code",
   "execution_count": 386,
   "id": "871fdc10",
   "metadata": {},
   "outputs": [
    {
     "data": {
      "text/plain": [
       "array([[0.        , 5.2999894 , 9.28476691, 4.0961596 , 2.60289603],\n",
       "       [5.2999894 , 0.        , 5.        , 3.16227766, 2.23606798],\n",
       "       [9.28476691, 5.        , 0.        , 7.07106781, 3.53553391],\n",
       "       [4.0961596 , 3.16227766, 7.07106781, 0.        , 7.07106781],\n",
       "       [2.60289603, 2.23606798, 3.53553391, 7.07106781, 0.        ]])"
      ]
     },
     "execution_count": 386,
     "metadata": {},
     "output_type": "execute_result"
    }
   ],
   "source": [
    "antColony.T_P"
   ]
  },
  {
   "cell_type": "code",
   "execution_count": 387,
   "id": "081f0ba4",
   "metadata": {},
   "outputs": [
    {
     "data": {
      "text/plain": [
       "10"
      ]
     },
     "execution_count": 387,
     "metadata": {},
     "output_type": "execute_result"
    }
   ],
   "source": [
    "antColony.number_of_ants"
   ]
  },
  {
   "cell_type": "code",
   "execution_count": 389,
   "id": "008f5c46",
   "metadata": {},
   "outputs": [
    {
     "name": "stdout",
     "output_type": "stream",
     "text": [
      "New best solution: cost = 1.03 and uses 1 trucks\n"
     ]
    }
   ],
   "source": [
    "antColony.optimize(3000)"
   ]
  },
  {
   "cell_type": "code",
   "execution_count": 390,
   "id": "253a3513",
   "metadata": {},
   "outputs": [
    {
     "data": {
      "text/plain": [
       "[0, 1, 4, 3, 2, 0]"
      ]
     },
     "execution_count": 390,
     "metadata": {},
     "output_type": "execute_result"
    }
   ],
   "source": [
    "antColony.best_path"
   ]
  },
  {
   "cell_type": "code",
   "execution_count": null,
   "id": "d726af27",
   "metadata": {},
   "outputs": [],
   "source": []
  },
  {
   "cell_type": "code",
   "execution_count": null,
   "id": "b70f25f0",
   "metadata": {},
   "outputs": [],
   "source": []
  },
  {
   "cell_type": "code",
   "execution_count": null,
   "id": "22b05d47",
   "metadata": {},
   "outputs": [],
   "source": []
  },
  {
   "cell_type": "code",
   "execution_count": null,
   "id": "76635fb3",
   "metadata": {},
   "outputs": [],
   "source": []
  }
 ],
 "metadata": {
  "kernelspec": {
   "display_name": "Python 3 (ipykernel)",
   "language": "python",
   "name": "python3"
  },
  "language_info": {
   "codemirror_mode": {
    "name": "ipython",
    "version": 3
   },
   "file_extension": ".py",
   "mimetype": "text/x-python",
   "name": "python",
   "nbconvert_exporter": "python",
   "pygments_lexer": "ipython3",
   "version": "3.9.7"
  }
 },
 "nbformat": 4,
 "nbformat_minor": 5
}
