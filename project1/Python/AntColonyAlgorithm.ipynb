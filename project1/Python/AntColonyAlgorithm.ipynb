{
 "cells": [
  {
   "cell_type": "code",
   "execution_count": 22,
   "id": "61436c75",
   "metadata": {},
   "outputs": [],
   "source": [
    "import numpy as np\n",
    "import math"
   ]
  },
  {
   "cell_type": "code",
   "execution_count": 34,
   "id": "ebe002d7",
   "metadata": {},
   "outputs": [],
   "source": [
    "class AntColony:\n",
    "    class Ant:\n",
    "        def __init__(self):\n",
    "            self.restart_ant()\n",
    "        \n",
    "        def restart_ant(self):\n",
    "            self.node_now = 0\n",
    "            self.visited_nodes = []\n",
    "        \n",
    "    class Pheromone:\n",
    "        def __init__(self, dim, starting_pheromone = 1):\n",
    "            self.dim = dim\n",
    "            self.restart_pheromone(starting_pheromone)\n",
    "        \n",
    "        def restart_pheromone(self, starting_pheromone):\n",
    "            self.pheromone_matrix = starting_pheromone * (np.ones((dim, dim)) - np.eye(dim) )\n",
    "        \n",
    "        def modify_pheromone(self):\n",
    "            pass # TODO, trzeba utrzymac symetrię macierzy\n",
    "    \n",
    "    def __init__(self, number_of_ants, alpha, beta, starting_pheromone = 1):\n",
    "        if number_of_ants <= 0:\n",
    "            raise Exception(\"Negative number of ants\")\n",
    "        \n",
    "        if number_of_ants != math.floor(number_of_ants):\n",
    "            raise Exception(\"Number of ants is not an intefer\")\n",
    "        \n",
    "        self.number_of_ants = number_of_ants\n",
    "        self.ants = [self.Ant() for i in range(self.number_of_ants)]\n",
    "        \n",
    "        if alpha < 0:\n",
    "            raise Exception(\"Alpha parameter has to be positive\")\n",
    "        self.alpha = alpha\n",
    "        \n",
    "        if beta < 0:\n",
    "            raise Exception(\"Beta parameter has to be positive\")\n",
    "        self.beta = beta\n",
    "        \n",
    "        if starting_pheromone < 0:\n",
    "            raise Exception(\"starting_pheromone parameter has to be positive\")\n",
    "        self.starting_pheromone = starting_pheromone\n",
    "    \n",
    "    def restart_pheromone(self):\n",
    "        self.pheromone = Pheromone(self.dim, self.starting_pheromone)\n",
    "    \n",
    "    def define_problem(self, starting_coordinates, coordinates, request, capasity):\n",
    "        if len(coordinates) != len(request):\n",
    "            raise Exception(\"Not consistent number of nodes\")\n",
    "        \n",
    "        if np.any(request <= 0):\n",
    "            raise Exception(\"There is negative request\")\n",
    "        \n",
    "        if capasity <= 0:\n",
    "            raise Exception(\"The capasity is negative\")\n",
    "        \n",
    "        if len(starting_coordinates) != 2:\n",
    "            raise Exception(\"The dimension of start is not 2\")\n",
    "        \n",
    "        if coordinates.shape[1] != 2:\n",
    "            raise Exception(\"The dimension of nodes is not 2\")\n",
    "        \n",
    "        self.starting_coordinates = starting_coordinates\n",
    "        self.coordinates = coordinates\n",
    "        self.request = request\n",
    "        self.capasity = capasity\n",
    "    \n",
    "    def single_iteration(self):\n",
    "        pass\n",
    "    \n",
    "    def optimize(self, max_iter):\n",
    "        for i in range(max_iter):\n",
    "            self.single_iteration()"
   ]
  },
  {
   "cell_type": "code",
   "execution_count": null,
   "id": "96ccb2bd",
   "metadata": {},
   "outputs": [],
   "source": []
  },
  {
   "cell_type": "code",
   "execution_count": 35,
   "id": "9f5f3450",
   "metadata": {},
   "outputs": [],
   "source": [
    "antColony = AntColony(10)\n",
    "antColony.define_problem(np.array([0,0]),np.array([[2,1], [5,1]]),np.array([3,2]),4)\n",
    "antColony.optimize(10)"
   ]
  },
  {
   "cell_type": "code",
   "execution_count": null,
   "id": "a2abd58d",
   "metadata": {},
   "outputs": [],
   "source": []
  }
 ],
 "metadata": {
  "kernelspec": {
   "display_name": "Python 3 (ipykernel)",
   "language": "python",
   "name": "python3"
  },
  "language_info": {
   "codemirror_mode": {
    "name": "ipython",
    "version": 3
   },
   "file_extension": ".py",
   "mimetype": "text/x-python",
   "name": "python",
   "nbconvert_exporter": "python",
   "pygments_lexer": "ipython3",
   "version": "3.9.7"
  }
 },
 "nbformat": 4,
 "nbformat_minor": 5
}
