{
 "cells": [
  {
   "cell_type": "code",
   "execution_count": 2,
   "id": "61436c75",
   "metadata": {},
   "outputs": [],
   "source": [
    "import numpy as np\n",
    "import math"
   ]
  },
  {
   "cell_type": "code",
   "execution_count": 161,
   "id": "2f332b84",
   "metadata": {},
   "outputs": [],
   "source": [
    "rng = np.random.default_rng()"
   ]
  },
  {
   "cell_type": "code",
   "execution_count": null,
   "id": "082a3db8",
   "metadata": {},
   "outputs": [],
   "source": []
  },
  {
   "cell_type": "code",
   "execution_count": 213,
   "id": "ebe002d7",
   "metadata": {},
   "outputs": [],
   "source": [
    "class AntColony:\n",
    "    def __init__(self, number_of_ants = None, alpha = 1, beta = 1,\n",
    "                 starting_pheromone = 1, Q = 1):\n",
    "        if number_of_ants is not None and number_of_ants <= 0:\n",
    "            raise Exception(\"Negative number of ants\")\n",
    "        if number_of_ants is not None and number_of_ants != math.floor(number_of_ants):\n",
    "            raise Exception(\"Number of ants is not an intefer\")\n",
    "        if alpha < 0:\n",
    "            raise Exception(\"Alpha parameter has to be positive\")\n",
    "        if beta < 0:\n",
    "            raise Exception(\"Beta parameter has to be positive\")\n",
    "        if starting_pheromone < 0:\n",
    "            raise Exception(\"starting_pheromone parameter has to be positive\")\n",
    "        if Q < 0:\n",
    "            raise Exception(\"Q parameter has to be positive\")\n",
    "\n",
    "        self.number_of_ants = number_of_ants\n",
    "        self.alpha = alpha\n",
    "        self.beta = beta\n",
    "        self.starting_pheromone = starting_pheromone\n",
    "        self.Q = Q\n",
    "    \n",
    "    def set_problem(self, coordinates, request, capasity, s_max):\n",
    "        if coordinates.shape[1] != 2:\n",
    "            raise Exception(\"coordinates are not in IR^2\")\n",
    "        if coordinates.shape[0]-1 != request.shape[0]:\n",
    "            raise Exception(\"Different number of coordinates and requests\")\n",
    "        if np.any(request <= 0):\n",
    "            raise Exception(\"There is non positive request\")\n",
    "        if np.any(request > capasity):\n",
    "            raise Exception(\"There is request bigger than capasity. This problem is unsolvable!\")\n",
    "        \n",
    "        self.problem_size = coordinates.shape[0]\n",
    "        self.coordinates = coordinates\n",
    "        self.request = request\n",
    "        self.capasity = capasity\n",
    "        \n",
    "        if self.number_of_ants is None:\n",
    "            self.number_of_ants = 2 * self.problem_size\n",
    "        \n",
    "        self.pheromone_restart()\n",
    "        self.calculate_distance_matrix()\n",
    "        self.calculate_transition_matrix()\n",
    "        \n",
    "        if np.any(self.distance_matrix * 2 > s_max):\n",
    "            raise Exception(\"There is distance bigger than max_s / 2. This problem is unsolvable! Check antColony.distance_matrix\")\n",
    "        \n",
    "    def calculate_distance_matrix(self):\n",
    "        self.distance_matrix = np.zeros((self.problem_size, self.problem_size))\n",
    "        \n",
    "        for i in range(0, self.problem_size):\n",
    "            for j in range(i+1, self.problem_size): # only above the diagonal\n",
    "                d = np.linalg.norm( self.coordinates[i,:] - self.coordinates[j,:] )\n",
    "                self.distance_matrix[i, j] = d\n",
    "                self.distance_matrix[j, i] = d\n",
    "    \n",
    "    def calculate_transition_matrix(self):\n",
    "        # non standardize Probability\n",
    "        modified_distance_matrix = self.distance_matrix + np.eye(self.problem_size) # diagonal will later be set to 0\n",
    "        self.T_P = self.pheromone_matrix**self.alpha*(1/modified_distance_matrix)**self.beta\n",
    "        np.fill_diagonal(self.T_P, 0)\n",
    "    \n",
    "    def pheromone_restart(self):\n",
    "        self.pheromone_matrix = self.starting_pheromone * (np.ones((self.problem_size,\n",
    "                                                                    self.problem_size)) - np.eye(self.problem_size))\n",
    "        \n",
    "    def ant_find_path(self): # return (list of nodes, number of times to start from warehouse)\n",
    "        pass\n",
    "        #return [0, 4, 2, 0, 1, 3, 0], 2\n",
    "    \n",
    "    def ant_find_circle(self, visited_nodes):\n",
    "        pass\n",
    "    \n",
    "    def calculate_cost(self, path):\n",
    "        pass\n",
    "        #return rng.uniform()\n",
    "    \n",
    "    def pheromone_modify(self, paths):\n",
    "        pass # TODO, trzeba utrzymac symetrię macierzy\n",
    "    \n",
    "    def single_iteration(self):\n",
    "        paths = [None for i in range(self.number_of_ants)]\n",
    "        num_of_cycles = [None for i in range(self.number_of_ants)]\n",
    "        for i in range(self.number_of_ants):\n",
    "            paths[i], num_of_cycles[i] = self.ant_find_path()\n",
    "        costs = np.array([self.calculate_cost(paths[i]) for i in range(self.number_of_ants)])\n",
    "        \n",
    "        i_min_cost = np.argmin(costs)\n",
    "        if costs[i_min_cost] < self.best_cost:\n",
    "            self.best_path = paths[i_min_cost]\n",
    "            self.best_cost = costs[i_min_cost]\n",
    "            self.best_cycles = num_of_cycles[i_min_cost]\n",
    "            print(\"New best solution: cost = {:.2f} and uses {} trucks\".format(self.best_cost, self.best_cycles))\n",
    "        \n",
    "        self.pheromone_modify(paths)\n",
    "    \n",
    "    def optimize(self, max_iter):\n",
    "        self.best_cost = np.inf\n",
    "        for i in range(max_iter):\n",
    "            self.single_iteration()"
   ]
  },
  {
   "cell_type": "code",
   "execution_count": 214,
   "id": "a2abd58d",
   "metadata": {},
   "outputs": [],
   "source": [
    "antColony = AntColony(number_of_ants=None, alpha=1, beta=1, starting_pheromone = 1, Q = 1)"
   ]
  },
  {
   "cell_type": "code",
   "execution_count": 215,
   "id": "5a1e56cf",
   "metadata": {},
   "outputs": [],
   "source": [
    "request = np.array([10, 10, 10, 10, 10])"
   ]
  },
  {
   "cell_type": "code",
   "execution_count": 216,
   "id": "9425cb83",
   "metadata": {},
   "outputs": [],
   "source": [
    "coordinates = np.array([[365, 689], [365.4, 689.34], [365.3, 689.5], [365.3, 689.3], [365.2, 689.2], [365.1, 689.1]])"
   ]
  },
  {
   "cell_type": "code",
   "execution_count": 217,
   "id": "bf932423",
   "metadata": {},
   "outputs": [],
   "source": [
    "antColony.set_problem(coordinates, request, 100, 1.2)"
   ]
  },
  {
   "cell_type": "code",
   "execution_count": 218,
   "id": "2060dff4",
   "metadata": {},
   "outputs": [
    {
     "data": {
      "text/plain": [
       "array([[0.        , 1.90484829, 1.71498585, 2.3570226 , 3.53553391,\n",
       "        7.07106781],\n",
       "       [1.90484829, 0.        , 5.2999894 , 9.28476691, 4.0961596 ,\n",
       "        2.60289603],\n",
       "       [1.71498585, 5.2999894 , 0.        , 5.        , 3.16227766,\n",
       "        2.23606798],\n",
       "       [2.3570226 , 9.28476691, 5.        , 0.        , 7.07106781,\n",
       "        3.53553391],\n",
       "       [3.53553391, 4.0961596 , 3.16227766, 7.07106781, 0.        ,\n",
       "        7.07106781],\n",
       "       [7.07106781, 2.60289603, 2.23606798, 3.53553391, 7.07106781,\n",
       "        0.        ]])"
      ]
     },
     "execution_count": 218,
     "metadata": {},
     "output_type": "execute_result"
    }
   ],
   "source": [
    "antColony.T_P"
   ]
  },
  {
   "cell_type": "code",
   "execution_count": 219,
   "id": "30da27ba",
   "metadata": {},
   "outputs": [
    {
     "data": {
      "text/plain": [
       "12"
      ]
     },
     "execution_count": 219,
     "metadata": {},
     "output_type": "execute_result"
    }
   ],
   "source": [
    "antColony.number_of_ants"
   ]
  },
  {
   "cell_type": "code",
   "execution_count": 227,
   "id": "c9fe6a22",
   "metadata": {},
   "outputs": [
    {
     "name": "stdout",
     "output_type": "stream",
     "text": [
      "New best solution: cost = 0.10 and uses 2 trucks\n",
      "New best solution: cost = 0.03 and uses 2 trucks\n",
      "New best solution: cost = 0.02 and uses 2 trucks\n",
      "New best solution: cost = 0.01 and uses 2 trucks\n",
      "New best solution: cost = 0.00 and uses 2 trucks\n",
      "New best solution: cost = 0.00 and uses 2 trucks\n"
     ]
    }
   ],
   "source": [
    "antColony.optimize(30)"
   ]
  },
  {
   "cell_type": "code",
   "execution_count": null,
   "id": "5773712d",
   "metadata": {},
   "outputs": [],
   "source": []
  }
 ],
 "metadata": {
  "kernelspec": {
   "display_name": "Python 3 (ipykernel)",
   "language": "python",
   "name": "python3"
  },
  "language_info": {
   "codemirror_mode": {
    "name": "ipython",
    "version": 3
   },
   "file_extension": ".py",
   "mimetype": "text/x-python",
   "name": "python",
   "nbconvert_exporter": "python",
   "pygments_lexer": "ipython3",
   "version": "3.9.7"
  }
 },
 "nbformat": 4,
 "nbformat_minor": 5
}
