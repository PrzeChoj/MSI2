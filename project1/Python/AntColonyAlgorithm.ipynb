{
 "cells": [
  {
   "cell_type": "code",
   "execution_count": 1,
   "id": "61436c75",
   "metadata": {},
   "outputs": [],
   "source": [
    "import numpy as np\n",
    "import math\n",
    "import copy"
   ]
  },
  {
   "cell_type": "code",
   "execution_count": 2,
   "id": "3b8b2db8",
   "metadata": {},
   "outputs": [],
   "source": [
    "rng = np.random.default_rng()"
   ]
  },
  {
   "cell_type": "code",
   "execution_count": null,
   "id": "06cd095a",
   "metadata": {},
   "outputs": [],
   "source": []
  },
  {
   "cell_type": "code",
   "execution_count": null,
   "id": "9bcba073",
   "metadata": {},
   "outputs": [],
   "source": []
  },
  {
   "cell_type": "code",
   "execution_count": 27,
   "id": "ebe002d7",
   "metadata": {},
   "outputs": [],
   "source": [
    "import numpy as np\n",
    "import math\n",
    "\n",
    "rng = np.random.default_rng()\n",
    "\n",
    "\n",
    "\n",
    "class AntColony:\n",
    "    def __init__(self, number_of_ants=None, alpha=1, beta=1,\n",
    "                 starting_pheromone=1, Q=1, ro=0.9):\n",
    "        if number_of_ants is not None and number_of_ants <= 0:\n",
    "            raise Exception(\"Negative number of ants\")\n",
    "        if number_of_ants is not None and number_of_ants != math.floor(number_of_ants):\n",
    "            raise Exception(\"Number of ants is not an intefer\")\n",
    "        if alpha < 0:\n",
    "            raise Exception(\"Alpha parameter has to be positive\")\n",
    "        if beta < 0:\n",
    "            raise Exception(\"Beta parameter has to be positive\")\n",
    "        if starting_pheromone < 0:\n",
    "            raise Exception(\"starting_pheromone parameter has to be positive\")\n",
    "        if Q < 0:\n",
    "            raise Exception(\"Q parameter has to be positive\")\n",
    "        if ro < 0 or ro > 1:\n",
    "            raise Exception(\"ro parameter has to be in [0,1] range\")\n",
    "\n",
    "        self.number_of_ants = number_of_ants\n",
    "        self.alpha = alpha\n",
    "        self.beta = beta\n",
    "        self.starting_pheromone = starting_pheromone\n",
    "        self.Q = Q\n",
    "        self.ro = ro\n",
    "\n",
    "    def set_problem(self, coordinates, request, capacity, s_max, number_of_cars):\n",
    "        if coordinates.shape[1] != 2:\n",
    "            raise Exception(\"coordinates are not in IR^2\")\n",
    "        if request[0] != 0:\n",
    "            print(\"Adding 0 as technical request for warehouse\")\n",
    "            request = np.insert(request, 0, 0)\n",
    "        if coordinates.shape[0] != request.shape[0]:\n",
    "            raise Exception(\"Different number of coordinates and requests\")\n",
    "        if np.sum(request <= 0) > 1:\n",
    "            raise Exception(\"There is non positive request, other than the technical one at the warehouse\")\n",
    "        if np.any(request > capacity):\n",
    "            raise Exception(\"There is request bigger than capacity. This problem is unsolvable!\")\n",
    "        if number_of_cars < 0:\n",
    "            raise Exception(\"number_of_cars parameter has to be positive\")\n",
    "\n",
    "        self.problem_size = coordinates.shape[0]\n",
    "        self.coordinates = coordinates\n",
    "        self.request = request\n",
    "        self.capacity = capacity\n",
    "\n",
    "        self.restart()\n",
    "\n",
    "        if self.number_of_ants is None:\n",
    "            self.number_of_ants = 2 * self.problem_size\n",
    "\n",
    "        if np.any(self.distance_matrix[0] * 2 > s_max):\n",
    "            raise Exception(\n",
    "                \"There is distance bigger than max_s / 2. This problem is unsolvable! Check antColony.distance_matrix\")\n",
    "\n",
    "        self.s_max = s_max\n",
    "        self.number_of_cars = number_of_cars\n",
    "\n",
    "    def restart(self):\n",
    "        self.pheromone_restart()\n",
    "        self.calculate_distance_matrix()\n",
    "        self.calculate_transition_matrix()\n",
    "\n",
    "        self.best_cost = np.inf\n",
    "        self.best_path = None\n",
    "        self.best_cycles_number = None\n",
    "\n",
    "    def calculate_distance_matrix(self):\n",
    "        self.distance_matrix = np.zeros((self.problem_size, self.problem_size))\n",
    "\n",
    "        for i in range(0, self.problem_size):\n",
    "            for j in range(i + 1, self.problem_size):  # only above the diagonal\n",
    "                d = np.linalg.norm(self.coordinates[i, :] - self.coordinates[j, :])\n",
    "                self.distance_matrix[i, j] = d\n",
    "                self.distance_matrix[j, i] = d\n",
    "\n",
    "    def calculate_transition_matrix(self):\n",
    "        # self.T_P is non standardize Probability\n",
    "        modified_distance_matrix = self.distance_matrix + np.eye(self.problem_size)  # diagonal will later be set to 0\n",
    "        self.T_P = self.pheromone_matrix ** self.alpha * (1 / modified_distance_matrix) ** self.beta\n",
    "        np.fill_diagonal(self.T_P, 0)\n",
    "\n",
    "    def pheromone_restart(self):\n",
    "        self.pheromone_matrix = self.starting_pheromone * (np.ones((self.problem_size,\n",
    "                                                                    self.problem_size)) - np.eye(self.problem_size))\n",
    "\n",
    "    def ant_find_path(self):  # return (list of nodes, number of times to start from warehouse - number of 0 in list of nodes minus 1 - number of ant_find_circle() calls)\n",
    "        visited_nodes = [0]  # start from warehouse\n",
    "        number_of_cicles = 0\n",
    "        while len(visited_nodes) - number_of_cicles < self.problem_size:  # in visited_nodes should be [0,1,...,self.problem_size] and additionally number_of_cicles zeros\n",
    "            number_of_cicles += 1\n",
    "            visited_nodes = self.ant_find_circle(visited_nodes)\n",
    "\n",
    "        return visited_nodes, number_of_cicles\n",
    "\n",
    "    def ant_find_circle(self, visited_nodes):\n",
    "        if visited_nodes is None or len(visited_nodes) == 0 or visited_nodes[-1] != 0:\n",
    "            raise Exception(\"ant is not at the warehouse\")\n",
    "\n",
    "        node = 0\n",
    "        dist_from_warehouse = 0\n",
    "        capacity_left = self.capacity\n",
    "\n",
    "        # do_while loop\n",
    "        move = self.ant_make_move(visited_nodes, capacity_left, dist_from_warehouse)\n",
    "        visited_nodes.append(move)\n",
    "        dist_from_warehouse += self.distance_matrix[node, move]\n",
    "        capacity_left -= self.request[move]\n",
    "        node = move\n",
    "        while (node != 0):\n",
    "            move = self.ant_make_move(visited_nodes, capacity_left, dist_from_warehouse)\n",
    "            visited_nodes.append(move)\n",
    "            dist_from_warehouse += self.distance_matrix[node, move]\n",
    "            capacity_left -= self.request[move]\n",
    "            node = move\n",
    "\n",
    "        return visited_nodes\n",
    "\n",
    "    def ant_make_move(self, visited_nodes, capacity_left,\n",
    "                      dist_from_warehouse):  # wylosuj z rozkladu self.T_P[dopuszczalne]\n",
    "        node = visited_nodes[-1]\n",
    "        if node == 0 and dist_from_warehouse != 0:\n",
    "            raise Exception(\"ant is in warehouse, but the dist_from_warehouse is not 0\")\n",
    "        if capacity_left < 0:\n",
    "            raise Exception(\"There is less than none capacity left\")\n",
    "\n",
    "        possible_nodes = self.get_possible_nodes(visited_nodes, capacity_left, dist_from_warehouse)\n",
    "\n",
    "        if not np.any(possible_nodes):\n",
    "            raise Exception(\"There is nowhere to go :(\")\n",
    "\n",
    "        my_cum_sum = np.cumsum(self.T_P[node, possible_nodes])\n",
    "        c = my_cum_sum[-1]\n",
    "\n",
    "        u = self.uniform_drawn[self.now_iter, len(visited_nodes)] * c\n",
    "\n",
    "        return np.where(possible_nodes)[0][np.where(u < my_cum_sum)[0][0]]  # EXP: np.where(u < my_cum_sum) == ([3,4,5],) # so the 3 was drawn\n",
    "\n",
    "    def get_possible_nodes(self, visited_nodes, capacity_left, dist_from_warehouse):\n",
    "        node = visited_nodes[-1]\n",
    "\n",
    "        possible_nodes = np.ones(self.problem_size).astype(bool)  # (True, True, ..., True)\n",
    "\n",
    "        possible_nodes[visited_nodes] = False\n",
    "\n",
    "        if visited_nodes[-1] != 0:\n",
    "            possible_nodes[0] = True\n",
    "\n",
    "        possible_nodes[capacity_left < self.request] = False\n",
    "\n",
    "        dist_to_others = self.distance_matrix[node]\n",
    "        dist_to_warehouse = self.distance_matrix[0]\n",
    "        possible_nodes[dist_from_warehouse + dist_to_others + dist_to_warehouse > self.s_max] = False\n",
    "\n",
    "        return possible_nodes\n",
    "\n",
    "    def calculate_cost(self, path):\n",
    "        cost_sum = 0\n",
    "        for i in range(len(path) - 1):\n",
    "            cost_sum += self.distance_matrix[path[i], path[i + 1]]\n",
    "        return cost_sum\n",
    "\n",
    "    def pheromone_modify(self, paths):\n",
    "        self.pheromone_matrix *= (1 - self.ro)\n",
    "        delta_pheromone_matrix = np.zeros_like(self.pheromone_matrix)\n",
    "        for path in paths:\n",
    "            # path = [0,4,3,0,1,5,2,0]\n",
    "            for i in range(len(path) - 1):\n",
    "                delta_pheromone_matrix[path[i], path[i + 1]] += 1 / self.distance_matrix[path[i], path[i + 1]]\n",
    "        self.pheromone_matrix += self.Q * delta_pheromone_matrix\n",
    "\n",
    "    def single_iteration(self, print_progress, iteration):\n",
    "        paths = [None for i in range(self.number_of_ants)]\n",
    "        num_of_cycles = [None for i in range(self.number_of_ants)]\n",
    "        for i in range(self.number_of_ants):\n",
    "            paths[i], num_of_cycles[i] = self.ant_find_path()\n",
    "        costs = np.array([self.calculate_cost(paths[i]) for i in range(self.number_of_ants)])\n",
    "\n",
    "        i_min_cost = np.argmin(costs)\n",
    "        if costs[i_min_cost] < self.best_cost:\n",
    "            self.best_path = paths[i_min_cost]\n",
    "            self.best_cost = costs[i_min_cost]\n",
    "            self.best_cycles_number = num_of_cycles[i_min_cost]\n",
    "            if print_progress:\n",
    "                print(\"New best solution in {} iteration: cost = {:.2f} and uses {} trucks\".format(iteration,\n",
    "                                                                                                   self.best_cost,\n",
    "                                                                                                   self.best_cycles_number))\n",
    "\n",
    "        self.pheromone_modify(paths)\n",
    "\n",
    "    def optimize(self, max_iter, print_progress=False, rng_seed=None, new=True):\n",
    "        self.rng = np.random.default_rng(rng_seed)\n",
    "        if new:\n",
    "            self.restart()\n",
    "\n",
    "        self.uniform_drawn = self.rng.uniform(size=(max_iter, 2 * self.problem_size))\n",
    "\n",
    "        for i in range(max_iter):\n",
    "            self.now_iter = i\n",
    "            self.single_iteration(print_progress, i)\n",
    "\n",
    "        # TODO - Czy udało się znaleść rozwiązanie z dobrą liczbą samochodów?"
   ]
  },
  {
   "cell_type": "code",
   "execution_count": 28,
   "id": "a2abd58d",
   "metadata": {},
   "outputs": [],
   "source": [
    "antColony = AntColony(number_of_ants=None, alpha=1, beta=1, starting_pheromone = 1, Q = 1)"
   ]
  },
  {
   "cell_type": "code",
   "execution_count": 29,
   "id": "c5041b64",
   "metadata": {},
   "outputs": [],
   "source": [
    "request = np.array([10, 10, 10, 10])"
   ]
  },
  {
   "cell_type": "code",
   "execution_count": 30,
   "id": "29c21f8b",
   "metadata": {},
   "outputs": [],
   "source": [
    "coordinates = np.array([[365.4, 689.34], [365.3, 689.5], [365.3, 689.3], [365.2, 689.2], [365.1, 689.1]])"
   ]
  },
  {
   "cell_type": "code",
   "execution_count": 31,
   "id": "da75d588",
   "metadata": {},
   "outputs": [
    {
     "name": "stdout",
     "output_type": "stream",
     "text": [
      "Adding 0 as technical request for warehouse\n"
     ]
    }
   ],
   "source": [
    "antColony.set_problem(coordinates, request, 100, 1.2, 5)"
   ]
  },
  {
   "cell_type": "code",
   "execution_count": 19,
   "id": "008f5c46",
   "metadata": {},
   "outputs": [
    {
     "name": "stdout",
     "output_type": "stream",
     "text": [
      "New best solution in 0 iteration: cost = 1.06 and uses 1 trucks\n",
      "New best solution in 1 iteration: cost = 1.04 and uses 1 trucks\n",
      "New best solution in 14 iteration: cost = 1.03 and uses 1 trucks\n"
     ]
    }
   ],
   "source": [
    "antColony.optimize(300, print_progress=True)"
   ]
  },
  {
   "cell_type": "code",
   "execution_count": 20,
   "id": "253a3513",
   "metadata": {},
   "outputs": [
    {
     "data": {
      "text/plain": [
       "[0, 2, 3, 4, 1, 0]"
      ]
     },
     "execution_count": 20,
     "metadata": {},
     "output_type": "execute_result"
    }
   ],
   "source": [
    "antColony.best_path"
   ]
  },
  {
   "cell_type": "code",
   "execution_count": null,
   "id": "d726af27",
   "metadata": {},
   "outputs": [],
   "source": []
  },
  {
   "cell_type": "code",
   "execution_count": null,
   "id": "b70f25f0",
   "metadata": {},
   "outputs": [],
   "source": []
  },
  {
   "cell_type": "code",
   "execution_count": null,
   "id": "22b05d47",
   "metadata": {},
   "outputs": [],
   "source": []
  },
  {
   "cell_type": "code",
   "execution_count": null,
   "id": "76635fb3",
   "metadata": {},
   "outputs": [],
   "source": []
  }
 ],
 "metadata": {
  "kernelspec": {
   "display_name": "Python 3 (ipykernel)",
   "language": "python",
   "name": "python3"
  },
  "language_info": {
   "codemirror_mode": {
    "name": "ipython",
    "version": 3
   },
   "file_extension": ".py",
   "mimetype": "text/x-python",
   "name": "python",
   "nbconvert_exporter": "python",
   "pygments_lexer": "ipython3",
   "version": "3.9.7"
  }
 },
 "nbformat": 4,
 "nbformat_minor": 5
}
