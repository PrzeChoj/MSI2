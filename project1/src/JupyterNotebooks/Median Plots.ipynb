{
 "cells": [
  {
   "cell_type": "code",
   "execution_count": null,
   "id": "aee6f9d2",
   "metadata": {},
   "outputs": [],
   "source": [
    "import numpy as np\n",
    "from AntColony import *\n",
    "import re"
   ]
  },
  {
   "cell_type": "code",
   "execution_count": null,
   "id": "a2665ca6",
   "metadata": {},
   "outputs": [],
   "source": []
  },
  {
   "cell_type": "code",
   "execution_count": null,
   "id": "5ccea76f",
   "metadata": {},
   "outputs": [],
   "source": [
    "def napraw_tekst(tekst):\n",
    "    return(re.sub(\"[0-9]\\s+\", lambda napis : napis[0]+\", \", tekst))"
   ]
  },
  {
   "cell_type": "code",
   "execution_count": null,
   "id": "5b196420",
   "metadata": {},
   "outputs": [],
   "source": [
    "napraw_tekst(\"[  0  37  57  77 100   4  59  22  95  60  68  81  69  53   0 105  85   0 117  26   5  41   0 104  63  51  89   0  47 101   0  96  71 116  54 118  79  21  30  67  33  38  52  88  50 107  61 119  94  10   0  80  16  70  55  93  76  43 113  64 109  78  39   8  73  25  29  12  91  32  31   0   2  49  42  82   3 112  45  84   0  20   0  98  13  28  19  46  66 108 103  17  18  44   9  99   0  23  58  15  83  97   7 106 110  74  65  86  48 115  36   0  75  14   0 102  72  87  62  40 111  34  27  11  56   1  24  35  92   6 114  90   0]\")"
   ]
  },
  {
   "cell_type": "code",
   "execution_count": null,
   "id": "354ffc2d",
   "metadata": {},
   "outputs": [],
   "source": []
  },
  {
   "cell_type": "markdown",
   "id": "5b7d557d",
   "metadata": {},
   "source": [
    "# Median Plots"
   ]
  },
  {
   "cell_type": "code",
   "execution_count": null,
   "id": "33464a79",
   "metadata": {},
   "outputs": [],
   "source": []
  },
  {
   "cell_type": "code",
   "execution_count": null,
   "id": "1c5aeea1",
   "metadata": {},
   "outputs": [],
   "source": []
  },
  {
   "cell_type": "code",
   "execution_count": null,
   "id": "54c1cbb2",
   "metadata": {},
   "outputs": [],
   "source": []
  },
  {
   "cell_type": "code",
   "execution_count": null,
   "id": "6540b2ea",
   "metadata": {},
   "outputs": [],
   "source": []
  },
  {
   "cell_type": "markdown",
   "id": "d658128f",
   "metadata": {},
   "source": [
    "# Small 1"
   ]
  },
  {
   "cell_type": "code",
   "execution_count": null,
   "id": "4e1e9489",
   "metadata": {},
   "outputs": [],
   "source": [
    "plot_4_medians(0, True, True)"
   ]
  },
  {
   "cell_type": "code",
   "execution_count": null,
   "id": "19d76349",
   "metadata": {},
   "outputs": [],
   "source": []
  },
  {
   "cell_type": "markdown",
   "id": "9d0b1423",
   "metadata": {},
   "source": [
    "# Small 2"
   ]
  },
  {
   "cell_type": "code",
   "execution_count": null,
   "id": "5c676e9c",
   "metadata": {},
   "outputs": [],
   "source": [
    "plot_4_medians(1, True, True)"
   ]
  },
  {
   "cell_type": "code",
   "execution_count": null,
   "id": "e917c95b",
   "metadata": {},
   "outputs": [],
   "source": []
  },
  {
   "cell_type": "markdown",
   "id": "c13ce2f7",
   "metadata": {},
   "source": [
    "# Medium 1"
   ]
  },
  {
   "cell_type": "code",
   "execution_count": null,
   "id": "16612075",
   "metadata": {},
   "outputs": [],
   "source": [
    "plot_4_medians(2, True, True)"
   ]
  },
  {
   "cell_type": "code",
   "execution_count": null,
   "id": "3bac9587",
   "metadata": {},
   "outputs": [],
   "source": []
  },
  {
   "cell_type": "markdown",
   "id": "8cc3185d",
   "metadata": {},
   "source": [
    "# Medium 2"
   ]
  },
  {
   "cell_type": "code",
   "execution_count": null,
   "id": "24d9399d",
   "metadata": {},
   "outputs": [],
   "source": [
    "plot_4_medians(3, True, True)"
   ]
  },
  {
   "cell_type": "code",
   "execution_count": null,
   "id": "8c5ad0d2",
   "metadata": {},
   "outputs": [],
   "source": []
  },
  {
   "cell_type": "markdown",
   "id": "d60f4557",
   "metadata": {},
   "source": [
    "# Big 1"
   ]
  },
  {
   "cell_type": "code",
   "execution_count": null,
   "id": "f548f2f5",
   "metadata": {},
   "outputs": [],
   "source": [
    "plot_4_medians(4, True, True)"
   ]
  },
  {
   "cell_type": "code",
   "execution_count": null,
   "id": "b1c5dfbb",
   "metadata": {},
   "outputs": [],
   "source": []
  },
  {
   "cell_type": "markdown",
   "id": "61ffeafb",
   "metadata": {},
   "source": [
    "# Big 2"
   ]
  },
  {
   "cell_type": "code",
   "execution_count": null,
   "id": "3a77d118",
   "metadata": {},
   "outputs": [],
   "source": [
    "plot_4_medians(5, True, True)"
   ]
  },
  {
   "cell_type": "code",
   "execution_count": null,
   "id": "783b6572",
   "metadata": {},
   "outputs": [],
   "source": []
  }
 ],
 "metadata": {
  "kernelspec": {
   "display_name": "Python 3 (ipykernel)",
   "language": "python",
   "name": "python3"
  },
  "language_info": {
   "codemirror_mode": {
    "name": "ipython",
    "version": 3
   },
   "file_extension": ".py",
   "mimetype": "text/x-python",
   "name": "python",
   "nbconvert_exporter": "python",
   "pygments_lexer": "ipython3",
   "version": "3.9.7"
  }
 },
 "nbformat": 4,
 "nbformat_minor": 5
}
