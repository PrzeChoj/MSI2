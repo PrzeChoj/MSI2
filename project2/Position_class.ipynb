{
 "cells": [
  {
   "cell_type": "code",
   "execution_count": 1,
   "id": "038cb4c1",
   "metadata": {},
   "outputs": [],
   "source": [
    "import numpy as np"
   ]
  },
  {
   "cell_type": "code",
   "execution_count": null,
   "id": "34f3a03a",
   "metadata": {},
   "outputs": [],
   "source": []
  },
  {
   "cell_type": "code",
   "execution_count": 190,
   "id": "6648ff6f",
   "metadata": {},
   "outputs": [],
   "source": [
    "class Position:\n",
    "    def __init__(self):\n",
    "        self.shapes = {0: u'\\u00B7', # empty place\n",
    "                       1: u'\\u25A1', # white square\n",
    "                       2: u'\\u25B3', # white triangle\n",
    "                       3: u'\\u25CB', # white circle\n",
    "                       4: u'\\u25C7', # white dimond\n",
    "                       5: u'\\u25C6', # black dimond\n",
    "                       6: u'\\u25C9', # black circle\n",
    "                       7: u'\\u25BC', # black triangle\n",
    "                       8: u'\\u25A0', # black square\n",
    "                      }\n",
    "        self.board = self.get_starting_board()\n",
    "        self.moves_made = 0\n",
    "        self.move_white = True  # White True, Black False\n",
    "        self.is_terminal = False\n",
    "    \n",
    "    def get_starting_board(self):\n",
    "        empty_middle = np.array([[0,0,0,0,0,0,0,0] for i in range(8)])\n",
    "        starting_white = np.array([[2, 3, 4, 1, 4, 3, 1, 2]])\n",
    "        starting_black = 9 - starting_white\n",
    "        \n",
    "        starting_board = np.concatenate((starting_black,\n",
    "                                         empty_middle,\n",
    "                                         starting_white\n",
    "                                        ))\n",
    "        return starting_board\n",
    "\n",
    "\n",
    "    def draw_board(self, draw_coordinates = True):\n",
    "        move_str = \"White\" if self.move_white else \"Black\"\n",
    "        print(f\"Now move: \" + move_str, end=\"\\n\\n\")\n",
    "        \n",
    "        for line_num in range(len(self.board)):\n",
    "            if draw_coordinates:\n",
    "                print(line_num, end=\"|\")\n",
    "            for point in self.board[line_num]:\n",
    "                print(self.shapes[point], end=\"\")\n",
    "            print(\"\")\n",
    "        \n",
    "        if draw_coordinates:\n",
    "            print(\"  ABCDEFGH\")\n",
    "    \n",
    "    def get_possible_moves(self):\n",
    "        pass\n",
    "    \n",
    "    def is_move_legal(self, move_ints):\n",
    "        legal_figures = [1,2,3,4] if self.move_white else [5,6,7,8]\n",
    "        if self.board[move_ints[1], move_ints[0]] not in legal_figures:\n",
    "            print(\"Bad figure selected. Select your figure\")\n",
    "            return False\n",
    "        if self.board[move_ints[3], move_ints[2]] != 0:\n",
    "            print(\"Destination field is occupied. Select other field\")\n",
    "            return False\n",
    "        \n",
    "        # TODO(Czy mogę tak się ruszyć? Typy figur; Skoki)\n",
    "        \n",
    "        return True\n",
    "    \n",
    "    def move_str_to_int(self, move_str):\n",
    "        move_str = move_str.lower()\n",
    "        move_start_letter = ord(move_str[0]) - 97  # not 96, cos we want a -> 0\n",
    "        move_start_number = int(move_str[1])\n",
    "        move_end_letter = ord(move_str[2]) - 97\n",
    "        move_end_number = int(move_str[3])\n",
    "        \n",
    "        return [move_start_letter, move_start_number, move_end_letter, move_end_number]\n",
    "    \n",
    "    def make_move(self, move):\n",
    "        # i.e. move = \"A9B8\"\n",
    "        move = self.move_str_to_int(move)\n",
    "        \n",
    "        if not self.is_move_legal(move):\n",
    "            return\n",
    "        \n",
    "        self.board[move[3], move[2]], self.board[move[1], move[0]] = self.board[move[1], move[0]], self.board[move[3], move[2]]\n",
    "        self.move_white = not self.move_white\n",
    "        self.moves_made += 0.5\n",
    "        \n",
    "        self.check_is_therminal()\n",
    "        \n",
    "    \n",
    "    def check_is_therminal(self):\n",
    "        if self.moves_made < 1:\n",
    "            return False\n",
    "        \n",
    "        if np.all(position.board[0] != 0):\n",
    "            print(\"White won!\")\n",
    "            self.is_terminal = True\n",
    "            return True\n",
    "        \n",
    "        if np.all(position.board[9] != 0):\n",
    "            print(\"Black won!\")\n",
    "            self.is_terminal = True\n",
    "            return True\n",
    "        \n",
    "        return False\n",
    "            \n",
    "        \n",
    "        "
   ]
  },
  {
   "cell_type": "code",
   "execution_count": 197,
   "id": "9b7d1cbf",
   "metadata": {},
   "outputs": [],
   "source": [
    "position = Position()"
   ]
  },
  {
   "cell_type": "code",
   "execution_count": 198,
   "id": "95676e11",
   "metadata": {},
   "outputs": [
    {
     "name": "stdout",
     "output_type": "stream",
     "text": [
      "Now move: White\n",
      "\n",
      "0|▼◉◆■◆◉■▼\n",
      "1|········\n",
      "2|········\n",
      "3|········\n",
      "4|········\n",
      "5|········\n",
      "6|········\n",
      "7|········\n",
      "8|········\n",
      "9|△○◇□◇○□△\n",
      "  ABCDEFGH\n"
     ]
    }
   ],
   "source": [
    "position.draw_board()"
   ]
  },
  {
   "cell_type": "code",
   "execution_count": 199,
   "id": "5959c92d",
   "metadata": {},
   "outputs": [
    {
     "name": "stdout",
     "output_type": "stream",
     "text": [
      "Now move: Black\n",
      "\n",
      "0|▼◉◆■◆◉■▼\n",
      "1|········\n",
      "2|········\n",
      "3|········\n",
      "4|········\n",
      "5|········\n",
      "6|········\n",
      "7|········\n",
      "8|·△······\n",
      "9|·○◇□◇○□△\n",
      "  ABCDEFGH\n"
     ]
    }
   ],
   "source": [
    "position.make_move(\"A9B8\")\n",
    "position.draw_board()"
   ]
  },
  {
   "cell_type": "code",
   "execution_count": 200,
   "id": "438201b9",
   "metadata": {},
   "outputs": [
    {
     "name": "stdout",
     "output_type": "stream",
     "text": [
      "Now move: White\n",
      "\n",
      "0|▼·◆■◆◉■▼\n",
      "1|·◉······\n",
      "2|········\n",
      "3|········\n",
      "4|········\n",
      "5|········\n",
      "6|········\n",
      "7|········\n",
      "8|·△······\n",
      "9|·○◇□◇○□△\n",
      "  ABCDEFGH\n"
     ]
    }
   ],
   "source": [
    "position.make_move(\"B0B1\")\n",
    "position.draw_board()"
   ]
  },
  {
   "cell_type": "code",
   "execution_count": 202,
   "id": "c8db79b0",
   "metadata": {},
   "outputs": [
    {
     "name": "stdout",
     "output_type": "stream",
     "text": [
      "Black won!\n",
      "Now move: Black\n",
      "\n",
      "0|▼·◆■◆◉■▼\n",
      "1|·◉······\n",
      "2|········\n",
      "3|········\n",
      "4|········\n",
      "5|········\n",
      "6|········\n",
      "7|········\n",
      "8|········\n",
      "9|△○◇□◇○□△\n",
      "  ABCDEFGH\n"
     ]
    }
   ],
   "source": [
    "position.make_move(\"B8A9\")\n",
    "position.draw_board()"
   ]
  },
  {
   "cell_type": "code",
   "execution_count": null,
   "id": "57645789",
   "metadata": {},
   "outputs": [],
   "source": []
  }
 ],
 "metadata": {
  "kernelspec": {
   "display_name": "Python 3 (ipykernel)",
   "language": "python",
   "name": "python3"
  },
  "language_info": {
   "codemirror_mode": {
    "name": "ipython",
    "version": 3
   },
   "file_extension": ".py",
   "mimetype": "text/x-python",
   "name": "python",
   "nbconvert_exporter": "python",
   "pygments_lexer": "ipython3",
   "version": "3.9.7"
  }
 },
 "nbformat": 4,
 "nbformat_minor": 5
}
