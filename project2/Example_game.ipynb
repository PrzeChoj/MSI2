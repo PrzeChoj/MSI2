{
 "cells": [
  {
   "cell_type": "code",
   "execution_count": 1,
   "id": "038cb4c1",
   "metadata": {},
   "outputs": [],
   "source": [
    "from Taifho import *"
   ]
  },
  {
   "cell_type": "code",
   "execution_count": null,
   "id": "34f3a03a",
   "metadata": {},
   "outputs": [],
   "source": []
  },
  {
   "cell_type": "code",
   "execution_count": 2,
   "id": "9b7d1cbf",
   "metadata": {},
   "outputs": [],
   "source": [
    "position = Position()"
   ]
  },
  {
   "cell_type": "code",
   "execution_count": 3,
   "id": "95676e11",
   "metadata": {},
   "outputs": [
    {
     "name": "stdout",
     "output_type": "stream",
     "text": [
      "Now move: Green\n",
      "\n",
      "0|\u001b[94m▼\u001b[0m\u001b[94m◉\u001b[0m\u001b[94m◆\u001b[0m\u001b[94m■\u001b[0m\u001b[94m◆\u001b[0m\u001b[94m◉\u001b[0m\u001b[94m■\u001b[0m\u001b[94m▼\u001b[0m\n",
      "1|········\n",
      "2|········\n",
      "3|········\n",
      "4|········\n",
      "5|········\n",
      "6|········\n",
      "7|········\n",
      "8|········\n",
      "9|\u001b[92m△\u001b[0m\u001b[92m○\u001b[0m\u001b[92m◇\u001b[0m\u001b[92m□\u001b[0m\u001b[92m◇\u001b[0m\u001b[92m○\u001b[0m\u001b[92m□\u001b[0m\u001b[92m△\u001b[0m\n",
      "  ABCDEFGH\n"
     ]
    }
   ],
   "source": [
    "position.draw_board()"
   ]
  },
  {
   "cell_type": "code",
   "execution_count": 4,
   "id": "5959c92d",
   "metadata": {},
   "outputs": [
    {
     "name": "stdout",
     "output_type": "stream",
     "text": [
      "Now move: Blue\n",
      "\n",
      "0|\u001b[94m▼\u001b[0m\u001b[94m◉\u001b[0m\u001b[94m◆\u001b[0m\u001b[94m■\u001b[0m\u001b[94m◆\u001b[0m\u001b[94m◉\u001b[0m\u001b[94m■\u001b[0m\u001b[94m▼\u001b[0m\n",
      "1|········\n",
      "2|········\n",
      "3|········\n",
      "4|········\n",
      "5|········\n",
      "6|········\n",
      "7|········\n",
      "8|·\u001b[92m△\u001b[0m······\n",
      "9|·\u001b[92m○\u001b[0m\u001b[92m◇\u001b[0m\u001b[92m□\u001b[0m\u001b[92m◇\u001b[0m\u001b[92m○\u001b[0m\u001b[92m□\u001b[0m\u001b[92m△\u001b[0m\n",
      "  ABCDEFGH\n"
     ]
    }
   ],
   "source": [
    "position.make_move(\"A9B8\")\n",
    "position.draw_board()"
   ]
  },
  {
   "cell_type": "code",
   "execution_count": 5,
   "id": "438201b9",
   "metadata": {},
   "outputs": [
    {
     "name": "stdout",
     "output_type": "stream",
     "text": [
      "Now move: Green\n",
      "\n",
      "0|\u001b[94m▼\u001b[0m·\u001b[94m◆\u001b[0m\u001b[94m■\u001b[0m\u001b[94m◆\u001b[0m\u001b[94m◉\u001b[0m\u001b[94m■\u001b[0m\u001b[94m▼\u001b[0m\n",
      "1|·\u001b[94m◉\u001b[0m······\n",
      "2|········\n",
      "3|········\n",
      "4|········\n",
      "5|········\n",
      "6|········\n",
      "7|········\n",
      "8|·\u001b[92m△\u001b[0m······\n",
      "9|·\u001b[92m○\u001b[0m\u001b[92m◇\u001b[0m\u001b[92m□\u001b[0m\u001b[92m◇\u001b[0m\u001b[92m○\u001b[0m\u001b[92m□\u001b[0m\u001b[92m△\u001b[0m\n",
      "  ABCDEFGH\n"
     ]
    }
   ],
   "source": [
    "position.make_move(\"B0B1\")\n",
    "position.draw_board()"
   ]
  },
  {
   "cell_type": "code",
   "execution_count": 6,
   "id": "c8db79b0",
   "metadata": {},
   "outputs": [
    {
     "name": "stdout",
     "output_type": "stream",
     "text": [
      "Black won!\n",
      "Now move: Blue\n",
      "\n",
      "0|\u001b[94m▼\u001b[0m·\u001b[94m◆\u001b[0m\u001b[94m■\u001b[0m\u001b[94m◆\u001b[0m\u001b[94m◉\u001b[0m\u001b[94m■\u001b[0m\u001b[94m▼\u001b[0m\n",
      "1|·\u001b[94m◉\u001b[0m······\n",
      "2|········\n",
      "3|········\n",
      "4|········\n",
      "5|········\n",
      "6|········\n",
      "7|········\n",
      "8|········\n",
      "9|\u001b[92m△\u001b[0m\u001b[92m○\u001b[0m\u001b[92m◇\u001b[0m\u001b[92m□\u001b[0m\u001b[92m◇\u001b[0m\u001b[92m○\u001b[0m\u001b[92m□\u001b[0m\u001b[92m△\u001b[0m\n",
      "  ABCDEFGH\n"
     ]
    }
   ],
   "source": [
    "position.make_move(\"B8A9\")\n",
    "position.draw_board()"
   ]
  },
  {
   "cell_type": "code",
   "execution_count": 7,
   "id": "daafa12c",
   "metadata": {},
   "outputs": [
    {
     "name": "stdout",
     "output_type": "stream",
     "text": [
      "Black won!\n",
      "Now move: Green\n",
      "\n",
      "0|\u001b[94m▼\u001b[0m·\u001b[94m◆\u001b[0m·\u001b[94m◆\u001b[0m\u001b[94m◉\u001b[0m\u001b[94m■\u001b[0m\u001b[94m▼\u001b[0m\n",
      "1|·\u001b[94m◉\u001b[0m·\u001b[94m■\u001b[0m····\n",
      "2|········\n",
      "3|········\n",
      "4|········\n",
      "5|········\n",
      "6|········\n",
      "7|········\n",
      "8|········\n",
      "9|\u001b[92m△\u001b[0m\u001b[92m○\u001b[0m\u001b[92m◇\u001b[0m\u001b[92m□\u001b[0m\u001b[92m◇\u001b[0m\u001b[92m○\u001b[0m\u001b[92m□\u001b[0m\u001b[92m△\u001b[0m\n",
      "  ABCDEFGH\n"
     ]
    }
   ],
   "source": [
    "position.make_move(\"D0D1\")\n",
    "position.draw_board()"
   ]
  },
  {
   "cell_type": "code",
   "execution_count": null,
   "id": "14bc244e",
   "metadata": {},
   "outputs": [],
   "source": []
  },
  {
   "cell_type": "code",
   "execution_count": 8,
   "id": "e309f469",
   "metadata": {},
   "outputs": [
    {
     "name": "stdout",
     "output_type": "stream",
     "text": [
      "Now move: Green\n",
      "\n",
      "Pawn selected: D9\n",
      "[0, 2, 4, 6]\n",
      "0|\u001b[94m▼\u001b[0m·\u001b[94m◆\u001b[0m·\u001b[94m◆\u001b[0m\u001b[94m◉\u001b[0m\u001b[94m■\u001b[0m\u001b[94m▼\u001b[0m\n",
      "1|·\u001b[94m◉\u001b[0m·\u001b[94m■\u001b[0m····\n",
      "2|········\n",
      "3|········\n",
      "4|········\n",
      "5|········\n",
      "6|········\n",
      "7|········\n",
      "8|···*····\n",
      "9|\u001b[92m△\u001b[0m\u001b[92m○\u001b[0m\u001b[92m◇\u001b[0m\u001b[92m□\u001b[0m\u001b[92m◇\u001b[0m\u001b[92m○\u001b[0m\u001b[92m□\u001b[0m\u001b[92m△\u001b[0m\n",
      "  ABCDEFGH\n"
     ]
    }
   ],
   "source": [
    "position.select_pawn(\"D9\")\n",
    "position.draw_board()"
   ]
  },
  {
   "cell_type": "code",
   "execution_count": 9,
   "id": "1120bea4",
   "metadata": {},
   "outputs": [
    {
     "name": "stdout",
     "output_type": "stream",
     "text": [
      "Now move: Blue\n",
      "\n",
      "0|\u001b[94m▼\u001b[0m·\u001b[94m◆\u001b[0m·\u001b[94m◆\u001b[0m\u001b[94m◉\u001b[0m\u001b[94m■\u001b[0m\u001b[94m▼\u001b[0m\n",
      "1|·\u001b[94m◉\u001b[0m·\u001b[94m■\u001b[0m····\n",
      "2|········\n",
      "3|········\n",
      "4|········\n",
      "5|········\n",
      "6|········\n",
      "7|········\n",
      "8|···\u001b[92m□\u001b[0m····\n",
      "9|\u001b[92m△\u001b[0m\u001b[92m○\u001b[0m\u001b[92m◇\u001b[0m·\u001b[92m◇\u001b[0m\u001b[92m○\u001b[0m\u001b[92m□\u001b[0m\u001b[92m△\u001b[0m\n",
      "  ABCDEFGH\n"
     ]
    }
   ],
   "source": [
    "position.make_move(\"D9D8\")\n",
    "position.draw_board()"
   ]
  },
  {
   "cell_type": "code",
   "execution_count": 15,
   "id": "ccbcc188",
   "metadata": {},
   "outputs": [
    {
     "name": "stdout",
     "output_type": "stream",
     "text": [
      "Now move: Blue\n",
      "\n",
      "Pawn selected: H0\n",
      "[0, 3, 5]\n",
      "0|\u001b[94m▼\u001b[0m·\u001b[94m◆\u001b[0m·\u001b[94m◆\u001b[0m\u001b[94m◉\u001b[0m\u001b[94m■\u001b[0m\u001b[94m▼\u001b[0m\n",
      "1|·\u001b[94m◉\u001b[0m·\u001b[94m■\u001b[0m····\n",
      "2|········\n",
      "3|········\n",
      "4|········\n",
      "5|········\n",
      "6|········\n",
      "7|········\n",
      "8|···\u001b[92m□\u001b[0m····\n",
      "9|\u001b[92m△\u001b[0m\u001b[92m○\u001b[0m\u001b[92m◇\u001b[0m·\u001b[92m◇\u001b[0m\u001b[92m○\u001b[0m\u001b[92m□\u001b[0m\u001b[92m△\u001b[0m\n",
      "  ABCDEFGH\n"
     ]
    }
   ],
   "source": [
    "position.select_pawn(\"h0\")\n",
    "position.draw_board()"
   ]
  },
  {
   "cell_type": "code",
   "execution_count": null,
   "id": "57645789",
   "metadata": {},
   "outputs": [],
   "source": []
  },
  {
   "cell_type": "code",
   "execution_count": null,
   "id": "1e5a4ca7",
   "metadata": {},
   "outputs": [],
   "source": []
  }
 ],
 "metadata": {
  "kernelspec": {
   "display_name": "Python 3 (ipykernel)",
   "language": "python",
   "name": "python3"
  },
  "language_info": {
   "codemirror_mode": {
    "name": "ipython",
    "version": 3
   },
   "file_extension": ".py",
   "mimetype": "text/x-python",
   "name": "python",
   "nbconvert_exporter": "python",
   "pygments_lexer": "ipython3",
   "version": "3.9.7"
  }
 },
 "nbformat": 4,
 "nbformat_minor": 5
}
