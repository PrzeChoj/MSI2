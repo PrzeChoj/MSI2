{
 "cells": [
  {
   "cell_type": "code",
   "execution_count": 1,
   "id": "038cb4c1",
   "metadata": {},
   "outputs": [],
   "source": [
    "from Taifho import *"
   ]
  },
  {
   "cell_type": "code",
   "execution_count": null,
   "id": "34f3a03a",
   "metadata": {},
   "outputs": [],
   "source": []
  },
  {
   "cell_type": "code",
   "execution_count": 2,
   "id": "9b7d1cbf",
   "metadata": {},
   "outputs": [],
   "source": [
    "position = Position()"
   ]
  },
  {
   "cell_type": "code",
   "execution_count": 3,
   "id": "95676e11",
   "metadata": {},
   "outputs": [
    {
     "name": "stdout",
     "output_type": "stream",
     "text": [
      "Now move: White\n",
      "\n",
      "0|▼◉◆■◆◉■▼\n",
      "1|········\n",
      "2|········\n",
      "3|········\n",
      "4|········\n",
      "5|········\n",
      "6|········\n",
      "7|········\n",
      "8|········\n",
      "9|△○◇□◇○□△\n",
      "  ABCDEFGH\n"
     ]
    }
   ],
   "source": [
    "position.draw_board()"
   ]
  },
  {
   "cell_type": "code",
   "execution_count": 4,
   "id": "5959c92d",
   "metadata": {},
   "outputs": [
    {
     "name": "stdout",
     "output_type": "stream",
     "text": [
      "Now move: Black\n",
      "\n",
      "0|▼◉◆■◆◉■▼\n",
      "1|········\n",
      "2|········\n",
      "3|········\n",
      "4|········\n",
      "5|········\n",
      "6|········\n",
      "7|········\n",
      "8|·△······\n",
      "9|·○◇□◇○□△\n",
      "  ABCDEFGH\n"
     ]
    }
   ],
   "source": [
    "position.make_move(\"A9B8\")\n",
    "position.draw_board()"
   ]
  },
  {
   "cell_type": "code",
   "execution_count": 5,
   "id": "438201b9",
   "metadata": {},
   "outputs": [
    {
     "name": "stdout",
     "output_type": "stream",
     "text": [
      "Now move: White\n",
      "\n",
      "0|▼·◆■◆◉■▼\n",
      "1|·◉······\n",
      "2|········\n",
      "3|········\n",
      "4|········\n",
      "5|········\n",
      "6|········\n",
      "7|········\n",
      "8|·△······\n",
      "9|·○◇□◇○□△\n",
      "  ABCDEFGH\n"
     ]
    }
   ],
   "source": [
    "position.make_move(\"B0B1\")\n",
    "position.draw_board()"
   ]
  },
  {
   "cell_type": "code",
   "execution_count": 6,
   "id": "c8db79b0",
   "metadata": {},
   "outputs": [
    {
     "name": "stdout",
     "output_type": "stream",
     "text": [
      "Black won!\n",
      "Now move: Black\n",
      "\n",
      "0|▼·◆■◆◉■▼\n",
      "1|·◉······\n",
      "2|········\n",
      "3|········\n",
      "4|········\n",
      "5|········\n",
      "6|········\n",
      "7|········\n",
      "8|········\n",
      "9|△○◇□◇○□△\n",
      "  ABCDEFGH\n"
     ]
    }
   ],
   "source": [
    "position.make_move(\"B8A9\")\n",
    "position.draw_board()"
   ]
  },
  {
   "cell_type": "code",
   "execution_count": null,
   "id": "57645789",
   "metadata": {},
   "outputs": [],
   "source": []
  }
 ],
 "metadata": {
  "kernelspec": {
   "display_name": "Python 3 (ipykernel)",
   "language": "python",
   "name": "python3"
  },
  "language_info": {
   "codemirror_mode": {
    "name": "ipython",
    "version": 3
   },
   "file_extension": ".py",
   "mimetype": "text/x-python",
   "name": "python",
   "nbconvert_exporter": "python",
   "pygments_lexer": "ipython3",
   "version": "3.9.7"
  }
 },
 "nbformat": 4,
 "nbformat_minor": 5
}
